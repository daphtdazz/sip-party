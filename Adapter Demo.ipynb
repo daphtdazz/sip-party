{
 "cells": [
  {
   "cell_type": "markdown",
   "metadata": {},
   "source": [
    "# Adapter usage demonstration #\n",
    "\n",
    "First create a couple of handy descriptors to allow us to constrain some properties.\n",
    "\n",
    "Basically, compensate for the fact that Python isn't typed!"
   ]
  },
  {
   "cell_type": "code",
   "execution_count": 1,
   "metadata": {
    "collapsed": false
   },
   "outputs": [],
   "source": [
    "from numbers import Number\n",
    "\n",
    "\n",
    "class NumberProperty(object):\n",
    "    \n",
    "    def __init__(self, base_attribute):\n",
    "        self.base_attribute = base_attribute\n",
    "        \n",
    "        self.__doc__ = (\n",
    "            \"A property that can only be set to a number. \"\n",
    "            \"The underlying storage attribute is '%s'\" % base_attribute)\n",
    "    \n",
    "    def __get__(self, instance, owner):\n",
    "        if instance is None: \n",
    "            return self\n",
    "        \n",
    "        return getattr(instance, self.base_attribute)\n",
    "    \n",
    "    def __set__(self, instance, value):\n",
    "        if not isinstance(value, Number):\n",
    "            raise TypeError('%r is not a Number' % value)\n",
    "        \n",
    "        return setattr(instance, self.base_attribute, value)\n",
    "    \n",
    "    \n",
    "class RangeProperty(NumberProperty):\n",
    "    \n",
    "    def __init__(self, base_attribute, start, length):\n",
    "        super(RangeProperty, self).__init__(base_attribute)\n",
    "        self.start = start\n",
    "        self.length = length\n",
    "        \n",
    "        self.__doc__ = (\n",
    "            \"A property that can only be set to a number between %f and %f. \"\n",
    "            \"The underlying storage attribute is '%s'\" % (\n",
    "                start, start + length, base_attribute))\n",
    "    \n",
    "    def __set__(self, instance, value):\n",
    "        if not isinstance(value, Number):\n",
    "            raise TypeError('%r is not a Number' % value)\n",
    "            \n",
    "        if not (self.start <= value < (self.start + self.length)):\n",
    "            raise ValueError(\n",
    "                '%f is not in range %f -> %f' % (value, self.start, self.start + self.length))\n",
    "        \n",
    "        return setattr(instance, self.base_attribute, value)"
   ]
  },
  {
   "cell_type": "markdown",
   "metadata": {},
   "source": [
    "Next, create two classes that have a relationship to each other. Note that:\n",
    "\n",
    "- `ImperialWindMeasurement` has an extra property, which is a derived property calculated entirely from an actual data attribute."
   ]
  },
  {
   "cell_type": "code",
   "execution_count": null,
   "metadata": {
    "collapsed": true
   },
   "outputs": [],
   "source": [
    "class MetricWindMeasurement(object):\n",
    "    \n",
    "    windspeed_m_per_s = NumberProperty('_windspeed')\n",
    "    winddirection = RangeProperty('_winddirection', 0, 100)\n",
    "    \n",
    "\n",
    "class ImperialWindMeasurement(object):\n",
    "    \n",
    "    windspeed_knots = NumberProperty('_windspeed')\n",
    "    winddirection = RangeProperty('_winddirection', 0, 360)\n",
    "    \n",
    "    @property\n",
    "    def text_winddirection(self):\n",
    "        wd = self.winddirection\n",
    "        if (360 - 22.5) <= wd or wd < 22.5:\n",
    "            return 'north'\n",
    "    \n",
    "        if 22.5 <= wd < 45 + 22.5:\n",
    "            return 'north-east'\n",
    "        \n",
    "        if 45 + 22.5 <= wd < 90 + 22.5:\n",
    "            return 'east'\n",
    "        \n",
    "        return \"I'm bored\""
   ]
  },
  {
   "cell_type": "markdown",
   "metadata": {},
   "source": [
    "Just illustrate that the type checking is working."
   ]
  },
  {
   "cell_type": "code",
   "execution_count": null,
   "metadata": {
    "collapsed": false
   },
   "outputs": [],
   "source": [
    "mwm = MetricWindMeasurement()\n",
    "mwm.windspeed_m_per_s = 'not a number'"
   ]
  },
  {
   "cell_type": "markdown",
   "metadata": {},
   "source": [
    "Next, configure an adapter class. It's going to convert from metric to imperial."
   ]
  },
  {
   "cell_type": "code",
   "execution_count": null,
   "metadata": {
    "collapsed": false
   },
   "outputs": [],
   "source": [
    "from sipparty.adapter import (\n",
    "    ProxyAdapter, AdaptToClass, AdapterProperty, AdapterOptionKeyConversion)\n",
    "\n",
    "\n",
    "class MetricToImperialWindMeasurementAdapter(ProxyAdapter):\n",
    "    from_class = MetricWindMeasurement\n",
    "    to_class = ImperialWindMeasurement\n",
    "    adaptations = (\n",
    "        ('windspeed_knots', 'windspeed_m_per_s', {\n",
    "                AdapterOptionKeyConversion: lambda x: x * 1.943844\n",
    "            }\n",
    "        ),\n",
    "        ('winddirection', 'winddirection', {\n",
    "                AdapterOptionKeyConversion: lambda x: x * 3.6\n",
    "            })\n",
    "    )\n"
   ]
  },
  {
   "cell_type": "markdown",
   "metadata": {},
   "source": [
    "Use it!"
   ]
  },
  {
   "cell_type": "code",
   "execution_count": null,
   "metadata": {
    "collapsed": false
   },
   "outputs": [],
   "source": [
    "mwm = MetricWindMeasurement()\n",
    "mwm.windspeed_m_per_s = 3\n",
    "\n",
    "imp_wm = AdaptToClass(mwm, ImperialWindMeasurement)\n",
    "print('Windspeed in knots: %f' % imp_wm.windspeed_knots)\n",
    "\n",
    "mwm.windspeed_m_per_s = 1.1\n",
    "print('Windspeed in knots: %f' % imp_wm.windspeed_knots)\n",
    "\n",
    "print('Is it of ImperialWindMeasurement class: %s' % isinstance(imp_wm, ImperialWindMeasurement))\n",
    "\n",
    "mwm.winddirection = 13\n",
    "print(imp_wm.text_winddirection)"
   ]
  },
  {
   "cell_type": "markdown",
   "metadata": {},
   "source": [
    "To make it even neater, there's a descriptor to provide an interface directly to the alternative class."
   ]
  },
  {
   "cell_type": "code",
   "execution_count": null,
   "metadata": {
    "collapsed": false
   },
   "outputs": [],
   "source": [
    "class MetricWithAdapter(MetricWindMeasurement):\n",
    "    imperial_adapter = AdapterProperty(ImperialWindMeasurement)\n",
    "    \n",
    "    \n",
    "mwa = MetricWithAdapter()\n",
    "mwa.winddirection = 27\n",
    "mwa.imperial_adapter.text_winddirection"
   ]
  }
 ],
 "metadata": {
  "kernelspec": {
   "display_name": "Python 2",
   "language": "python",
   "name": "python2"
  },
  "language_info": {
   "codemirror_mode": {
    "name": "ipython",
    "version": 2
   },
   "file_extension": ".py",
   "mimetype": "text/x-python",
   "name": "python",
   "nbconvert_exporter": "python",
   "pygments_lexer": "ipython2",
   "version": "2.7.10"
  }
 },
 "nbformat": 4,
 "nbformat_minor": 0
}
