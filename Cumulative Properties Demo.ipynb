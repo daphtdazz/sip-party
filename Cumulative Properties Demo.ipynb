{
 "cells": [
  {
   "cell_type": "code",
   "execution_count": 2,
   "metadata": {
    "collapsed": false
   },
   "outputs": [
    {
     "data": {
      "text/plain": [
       "{'a': 5, 'b': 2, 'c': 7}"
      ]
     },
     "execution_count": 2,
     "metadata": {},
     "output_type": "execute_result"
    }
   ],
   "source": [
    "from sipparty.util import CCPropsFor\n",
    "\n",
    "\n",
    "class SuperClass():\n",
    "    __metaclass__ = CCPropsFor((\n",
    "            'a_list', 'a_dictionary'))\n",
    "    \n",
    "    a_list = [1, 2, 3]\n",
    "    a_dictionary = {'a': 1, 'b': 2}\n",
    "    \n",
    "    \n",
    "class SubClass(SuperClass):\n",
    "    \n",
    "    # a_list is cumulative, and includes\n",
    "    a_list = [3, 4, 5]\n",
    "    a_dictionary = {'a': 5, 'c': 7}\n",
    "    \n",
    "    \n",
    "sbc = SubClass()\n",
    "sbc.a_list\n",
    "sbc.a_dictionary"
   ]
  }
 ],
 "metadata": {
  "kernelspec": {
   "display_name": "Python 2",
   "language": "python",
   "name": "python2"
  },
  "language_info": {
   "codemirror_mode": {
    "name": "ipython",
    "version": 2
   },
   "file_extension": ".py",
   "mimetype": "text/x-python",
   "name": "python",
   "nbconvert_exporter": "python",
   "pygments_lexer": "ipython2",
   "version": "2.7.10"
  }
 },
 "nbformat": 4,
 "nbformat_minor": 0
}
