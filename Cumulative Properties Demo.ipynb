{
 "cells": [
  {
   "cell_type": "code",
   "execution_count": null,
   "metadata": {
    "collapsed": false
   },
   "outputs": [],
   "source": [
    "from sipparty.util import CCPropsFor\n",
    "\n",
    "\n",
    "class SuperClass():\n",
    "    __metaclass__ = CCPropsFor((\n",
    "            'a_list', 'a_dictionary'))\n",
    "    \n",
    "    a_list = [1, 2, 3]\n",
    "    a_dictionary = {'a': 1, 'b': 2}\n",
    "    \n",
    "    \n",
    "class SubClass(SuperClass):\n",
    "    \n",
    "    # a_list is cumulative, and includes\n",
    "    a_list = [3, 4, 5]\n",
    "    a_dictionary = {'a': 5, 'c': 7}"
   ]
  }
 ],
 "metadata": {
  "kernelspec": {
   "display_name": "Python 2",
   "language": "python",
   "name": "python2"
  },
  "language_info": {
   "codemirror_mode": {
    "name": "ipython",
    "version": 2
   },
   "file_extension": ".py",
   "mimetype": "text/x-python",
   "name": "python",
   "nbconvert_exporter": "python",
   "pygments_lexer": "ipython2",
   "version": "2.7.10"
  }
 },
 "nbformat": 4,
 "nbformat_minor": 0
}
