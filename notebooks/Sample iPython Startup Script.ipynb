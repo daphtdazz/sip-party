{
 "cells": [
  {
   "cell_type": "markdown",
   "metadata": {},
   "source": [
    "# Sample iPython setup code\n",
    "\n",
    "This code is the recommended set of steps to take in an iPython startup script. It should also be easy to tweak this to achieve the set up that you find best."
   ]
  },
  {
   "cell_type": "code",
   "execution_count": 1,
   "metadata": {
    "collapsed": true
   },
   "outputs": [],
   "source": [
    "import logging\n",
    "import sys\n",
    "\n",
    "from sipparty.parties import NoMediaSimpleCallsParty"
   ]
  },
  {
   "cell_type": "markdown",
   "metadata": {},
   "source": [
    "Add a logging handler for `stderr` (highlighted red by iPython) and `stdout`."
   ]
  },
  {
   "cell_type": "code",
   "execution_count": 2,
   "metadata": {
    "collapsed": true
   },
   "outputs": [],
   "source": [
    "handler_stderr = logging.StreamHandler()\n",
    "handler_stderr.setLevel(logging.DEBUG)\n",
    "\n",
    "handler_stdout = logging.StreamHandler(stream=sys.stdout)\n",
    "handler_stdout.setLevel(logging.DEBUG) "
   ]
  },
  {
   "cell_type": "markdown",
   "metadata": {},
   "source": [
    "Set up two loggers, the root logger for everything to print warnings to `stderr`, and a logger to output protocol messages to stdout."
   ]
  },
  {
   "cell_type": "code",
   "execution_count": 3,
   "metadata": {
    "collapsed": true
   },
   "outputs": [],
   "source": [
    "log = logging.getLogger()\n",
    "log.setLevel(logging.WARNING)\n",
    "log.addHandler(handler_stderr)\n",
    " \n",
    "log_messages = logging.getLogger('sipparty.transport.messages')\n",
    "log_messages.propagate = False\n",
    "log_messages.addHandler(handler_stdout)\n",
    "log_messages.setLevel(logging.INFO) "
   ]
  }
 ],
 "metadata": {
  "kernelspec": {
   "display_name": "Python 3",
   "language": "python",
   "name": "python3"
  },
  "language_info": {
   "codemirror_mode": {
    "name": "ipython",
    "version": 3
   },
   "file_extension": ".py",
   "mimetype": "text/x-python",
   "name": "python",
   "nbconvert_exporter": "python",
   "pygments_lexer": "ipython3",
   "version": "3.5.0"
  }
 },
 "nbformat": 4,
 "nbformat_minor": 0
}
