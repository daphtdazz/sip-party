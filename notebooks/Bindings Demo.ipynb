{
 "cells": [
  {
   "cell_type": "markdown",
   "metadata": {},
   "source": [
    "# Demonstration of ValueBinder\n",
    "\n"
   ]
  },
  {
   "cell_type": "code",
   "execution_count": null,
   "metadata": {
    "collapsed": false
   },
   "outputs": [],
   "source": [
    "from sipparty.vb import (ValueBinder, KeyTransformer)\n",
    "\n",
    "\n",
    "class TextOnlyField(object):\n",
    "    \n",
    "    def __init__(self, base_attribute):\n",
    "        self.base_attribute = base_attribute\n",
    "        \n",
    "    def __get__(self, instance, owner):\n",
    "        if instance is None:\n",
    "            return self\n",
    "        \n",
    "        return getattr(instance, self.base_attribute)\n",
    "\n",
    "    def __set__(self, instance, value):\n",
    "        if not isinstance(value, str):\n",
    "            raise ValueError(\n",
    "                '%r is not an instance of unicode')\n",
    "            \n",
    "        setattr(instance, self.base_attribute, value)\n",
    "\n",
    "        \n",
    "class TextView(ValueBinder):\n",
    "    value = TextOnlyField('_value')\n",
    "    \n",
    "tv = TextView()\n",
    "try:\n",
    "    tv.value = 2\n",
    "except ValueError:\n",
    "    print(\"As expected, can't set 2 on TextView\")"
   ]
  },
  {
   "cell_type": "code",
   "execution_count": null,
   "metadata": {
    "collapsed": false
   },
   "outputs": [],
   "source": [
    "from numbers import Number\n",
    "\n",
    "\n",
    "class NumberProperty(object):\n",
    "    \n",
    "    def __init__(self, base_attribute):\n",
    "        self.base_attribute = base_attribute\n",
    "        \n",
    "        self.__doc__ = (\n",
    "            \"A property that can only be set to a number. \"\n",
    "            \"The underlying storage attribute is '%s'\" % base_attribute)\n",
    "    \n",
    "    def __get__(self, instance, owner):\n",
    "        if instance is None: \n",
    "            return self\n",
    "        \n",
    "        return getattr(instance, self.base_attribute)\n",
    "    \n",
    "    def __set__(self, instance, value):\n",
    "        if not isinstance(value, Number):\n",
    "            raise TypeError('%r is not a Number' % value)\n",
    "        \n",
    "        return setattr(instance, self.base_attribute, value)\n",
    "\n",
    "\n",
    "class DataObject(ValueBinder):\n",
    "    value = NumberProperty('_value')\n",
    "    \n",
    "    \n",
    "do = DataObject()\n",
    "do.value = 2    "
   ]
  },
  {
   "cell_type": "code",
   "execution_count": null,
   "metadata": {
    "collapsed": false
   },
   "outputs": [],
   "source": [
    "class Controller(ValueBinder):\n",
    "    vb_bindings = (\n",
    "        ('data_object.value', 'text_view.value', {\n",
    "            KeyTransformer: lambda x: str(x)}),\n",
    "    )\n",
    "    \n",
    "cc = Controller()\n",
    "\n",
    "cc.data_object = do\n",
    "cc.text_view = tv\n",
    "\n",
    "do.value = 5\n",
    "\n",
    "tv.value"
   ]
  },
  {
   "cell_type": "code",
   "execution_count": null,
   "metadata": {
    "collapsed": false
   },
   "outputs": [],
   "source": [
    "tv2 = TextView()\n",
    "cc.text_view = tv2\n",
    "tv2.value"
   ]
  }
 ],
 "metadata": {
  "kernelspec": {
   "display_name": "Python 2",
   "language": "python",
   "name": "python2"
  },
  "language_info": {
   "codemirror_mode": {
    "name": "ipython",
    "version": 2
   },
   "file_extension": ".py",
   "mimetype": "text/x-python",
   "name": "python",
   "nbconvert_exporter": "python",
   "pygments_lexer": "ipython2",
   "version": "2.7.10"
  }
 },
 "nbformat": 4,
 "nbformat_minor": 0
}
