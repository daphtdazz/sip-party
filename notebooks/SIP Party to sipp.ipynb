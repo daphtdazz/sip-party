{
 "cells": [
  {
   "cell_type": "markdown",
   "metadata": {},
   "source": [
    "# SIP Party to `sipp` #\n",
    "\n",
    "This demonstrates how to make calls to and from a sipp script without media using SIP Party.\n",
    "\n",
    "## A: Client SIP Party, server `sipp`.\n",
    "\n",
    "### Prerequisite steps\n",
    "\n",
    "You need a working copy of `sipp`. \n",
    "\n",
    "This example works with the basic `sipp` server scenario:\n",
    "\n",
    "    $ sipp -sn uas\n",
    "    \n",
    "If you want to see the message flows, switch the level of the `'sipparty.transport.messages'` logger to `logging.INFO`."
   ]
  },
  {
   "cell_type": "code",
   "execution_count": null,
   "metadata": {
    "collapsed": true
   },
   "outputs": [],
   "source": [
    "import logging\n",
    "\n",
    "transport_messages_logger = logging.getLogger('sipparty.transport.messages')\n",
    "transport_messages_logger.setLevel(logging.WARNING)"
   ]
  },
  {
   "cell_type": "markdown",
   "metadata": {},
   "source": [
    "### A1: Set up the the URIs\n",
    "\n",
    "Since it's a `sipp` instance we're talking to it doesn't have a real AOR, so we'll just use it's contact IP address as the host, which saves passing that in as a separate step."
   ]
  },
  {
   "cell_type": "code",
   "execution_count": null,
   "metadata": {
    "collapsed": false
   },
   "outputs": [],
   "source": [
    "remote_uri = 'sip:sipp_client@<your sipp host\\'s IP here>.'\n",
    "remote_uri = 'sip:sipp_client@192.168.0.106'\n",
    "my_uri = 'sip:me@my-domain.com'"
   ]
  },
  {
   "cell_type": "markdown",
   "metadata": {},
   "source": [
    "### A2: Create the local party\n",
    "\n",
    "Notice that we don't need to specify local address parameters. `sipparty` will use sensible defaults."
   ]
  },
  {
   "cell_type": "code",
   "execution_count": null,
   "metadata": {
    "collapsed": false
   },
   "outputs": [],
   "source": [
    "from sipparty.parties import NoMediaSimpleCallsParty\n",
    "p1 = NoMediaSimpleCallsParty(uri=my_uri)"
   ]
  },
  {
   "cell_type": "markdown",
   "metadata": {},
   "source": [
    "### A3: Send the `INVITE` to `sipp`\n",
    "\n",
    "SIP Party does most of its work asynchronously, but via the `sipparty.fsm.FSM` class provides a synchronization mechanism in the form of the `waitForStateCondition()` method. We can use that to wait for the dialog to be set up."
   ]
  },
  {
   "cell_type": "code",
   "execution_count": null,
   "metadata": {
    "collapsed": false
   },
   "outputs": [],
   "source": [
    "dlg = p1.invite(remote_uri)\n",
    "dlg.waitForStateCondition(\n",
    "    lambda st: st not in (dlg.States.Initial, dlg.States.InviteSent))"
   ]
  },
  {
   "cell_type": "markdown",
   "metadata": {},
   "source": [
    "### A4: Terminate\n",
    "\n",
    "And then simply terminate the dialog when you are ready."
   ]
  },
  {
   "cell_type": "code",
   "execution_count": null,
   "metadata": {
    "collapsed": false
   },
   "outputs": [],
   "source": [
    "dlg.terminate()\n",
    "dlg.waitForStateCondition(lambda st: st == dlg.States.Terminated)"
   ]
  }
 ],
 "metadata": {
  "kernelspec": {
   "display_name": "Python 3",
   "language": "python",
   "name": "python3"
  },
  "language_info": {
   "codemirror_mode": {
    "name": "ipython",
    "version": 3
   },
   "file_extension": ".py",
   "mimetype": "text/x-python",
   "name": "python",
   "nbconvert_exporter": "python",
   "pygments_lexer": "ipython3",
   "version": "3.5.0"
  }
 },
 "nbformat": 4,
 "nbformat_minor": 0
}
