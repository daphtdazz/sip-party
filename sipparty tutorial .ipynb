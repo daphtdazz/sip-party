{
 "cells": [
  {
   "cell_type": "markdown",
   "metadata": {},
   "source": [
    "# This notebook is a practice for DMP #\n",
    "\n",
    "Step 1: check out what dialogs are available from the dialogs package."
   ]
  },
  {
   "cell_type": "code",
   "execution_count": 10,
   "metadata": {
    "collapsed": false
   },
   "outputs": [
    {
     "data": {
      "text/plain": [
       "[sipparty.sip.dialogs.call.SimpleCall]"
      ]
     },
     "execution_count": 10,
     "metadata": {},
     "output_type": "execute_result"
    }
   ],
   "source": [
    "import sipparty.sip.dialogs  \n",
    "sipparty.sip.dialogs.AllDialogsTypes"
   ]
  },
  {
   "cell_type": "markdown",
   "metadata": {
    "collapsed": true
   },
   "source": [
    "A `Dialog` instance is our interface to another person (\"User Agent\" in SIP terms) talking in SIP. Using instances of `Dialog` we can invite other people to talk to us, and end calls when we're done.\n",
    "\n",
    "> Note: `sipparty` can use instances of `Dialog` for any SIP session, including registrations, which are covered later.\n",
    "\n",
    "Step 2: Create two `SimpleCall` dialogs, one for each side of the call. Try converting one of the dialogs to a string using `print(d1)` or `str(d1)`. You'll see that it is described by a Finite State Machine, which is simply a way of tracking the state (such as \"not yet in a call\", \"starting a call\" etc.) when we give it certain inputs (such as \"start a call to person Y\", or \"hang up the call\")."
   ]
  },
  {
   "cell_type": "code",
   "execution_count": 11,
   "metadata": {
    "collapsed": false
   },
   "outputs": [
    {
     "name": "stdout",
     "output_type": "stream",
     "text": [
      "'SimpleCall' 'SimpleCall3':\n",
      "  'TerminatingDialog':\n",
      "    'receiveResponse2' -> 'Terminated'\n",
      "\n",
      "  'Initial':\n",
      "    'initiate' -> 'InitiatingDialog'\n",
      "    'receiveRequestINVITE' -> 'InDialog'\n",
      "\n",
      "  'InitiatingDialog':\n",
      "    'receiveResponse2' -> 'InDialog'\n",
      "    'receiveResponse4' -> 'Error'\n",
      "    'receiveResponse18' -> 'InitiatingDialog'\n",
      "\n",
      "  'InDialog':\n",
      "    'terminate' -> 'TerminatingDialog'\n",
      "    'receiveResponse2' -> 'InDialog'\n",
      "    'receiveRequestBYE' -> 'Terminated'\n",
      "\n",
      "Current state: 'Initial'\n"
     ]
    }
   ],
   "source": [
    "from sipparty.sip.dialogs import SimpleCall\n",
    "d1 = SimpleCall()\n",
    "d2 = SimpleCall()\n",
    "print(d1)"
   ]
  },
  {
   "cell_type": "markdown",
   "metadata": {},
   "source": [
    "Step 3: See what inputs we can give to the dialog."
   ]
  },
  {
   "cell_type": "code",
   "execution_count": 12,
   "metadata": {
    "collapsed": false
   },
   "outputs": [
    {
     "data": {
      "text/plain": [
       "{'initiate',\n",
       " 'receiveRequestBYE',\n",
       " 'receiveRequestINVITE',\n",
       " 'receiveResponse18',\n",
       " 'receiveResponse2',\n",
       " 'receiveResponse4',\n",
       " 'terminate'}"
      ]
     },
     "execution_count": 12,
     "metadata": {},
     "output_type": "execute_result"
    }
   ],
   "source": [
    "d1.Inputs"
   ]
  },
  {
   "cell_type": "markdown",
   "metadata": {},
   "source": [
    "Try to initiate a dialog."
   ]
  },
  {
   "cell_type": "code",
   "execution_count": 13,
   "metadata": {
    "collapsed": false
   },
   "outputs": [
    {
     "name": "stderr",
     "output_type": "stream",
     "text": [
      "ERROR:sipparty.fsm.fsm:Hit exception processing FSM action <function weak_action_sendRequestINVITE at 0x108ef1b18>.\n",
      "Traceback (most recent call last):\n",
      "  File \"sipparty/fsm/fsm.py\", line 625, in _fsm_hit\n",
      "    action(*args, **kwargs)\n",
      "  File \"sipparty/fsm/fsm.py\", line 470, in weak_action\n",
      "    srv = func(*args, **kwargs)\n",
      "  File \"sipparty/util.py\", line 697, in weak_method\n",
      "    return getattr(sr, method)(*pass_args, **pass_kwargs)\n",
      "  File \"sipparty/sip/dialog.py\", line 222, in sendRequest\n",
      "    reqdAttr, self.__class__.__name__))\n",
      "ValueError: Attribute 'fromURI' of 'SimpleCall' instance required to send a request is None.\n"
     ]
    }
   ],
   "source": [
    "d1.hit('initiate')"
   ]
  },
  {
   "cell_type": "markdown",
   "metadata": {},
   "source": [
    "Ah, looks like we need to give the dialog a bit more information before we can start a call. We need to set the `fromURI` property. A SIP URI identifies a User Agent's SIP identity. In its simplest form a SIP URI looks like `sip:username@host`. Try setting that as the from URI.  "
   ]
  },
  {
   "cell_type": "code",
   "execution_count": 5,
   "metadata": {
    "collapsed": false
   },
   "outputs": [
    {
     "name": "stdout",
     "output_type": "stream",
     "text": [
      "sip:username@host\n",
      "URI(headers='', absoluteURIPart=None, scheme='sip', aor=AOR(username='username', host=Host(port=None, address='host')), parameters='')\n"
     ]
    }
   ],
   "source": [
    "d1.fromURI = 'sip:username@host'\n",
    "print(d1.fromURI)\n",
    "print(repr(d1.fromURI))"
   ]
  },
  {
   "cell_type": "markdown",
   "metadata": {
    "collapsed": true
   },
   "source": [
    "We've printed the `str()` conversion of the URI, which looked as we expected. But look what happened when we printed the `repr()` conversion. The URI is broken out into its constituent parts.\n",
    "\n",
    "> NB: for the interested the complete form of the URI is defined in section @@@ of [RFC3261](https://tools.ietf.org/html/rfc3261).\n",
    "\n",
    "Let's try that call again."
   ]
  },
  {
   "cell_type": "code",
   "execution_count": 6,
   "metadata": {
    "collapsed": false
   },
   "outputs": [
    {
     "name": "stderr",
     "output_type": "stream",
     "text": [
      "ERROR:sipparty.fsm.fsm:Hit exception processing FSM action <function weak_action_sendRequestINVITE at 0x108e4ba28>.\n",
      "Traceback (most recent call last):\n",
      "  File \"sipparty/fsm/fsm.py\", line 625, in _fsm_hit\n",
      "    action(*args, **kwargs)\n",
      "  File \"sipparty/fsm/fsm.py\", line 470, in weak_action\n",
      "    srv = func(*args, **kwargs)\n",
      "  File \"sipparty/util.py\", line 697, in weak_method\n",
      "    return getattr(sr, method)(*pass_args, **pass_kwargs)\n",
      "  File \"sipparty/sip/dialog.py\", line 222, in sendRequest\n",
      "    reqdAttr, self.__class__.__name__))\n",
      "ValueError: Attribute 'toURI' of 'SimpleCall' instance required to send a request is None.\n"
     ]
    }
   ],
   "source": [
    "d1.hit('initiate')"
   ]
  },
  {
   "cell_type": "markdown",
   "metadata": {
    "collapsed": true
   },
   "source": [
    "Looks like we need a toURI as well. But since we're going to be calling `d2`, we can set all the remaining parameters up at the same time."
   ]
  },
  {
   "cell_type": "code",
   "execution_count": 9,
   "metadata": {
    "collapsed": false
   },
   "outputs": [
    {
     "name": "stderr",
     "output_type": "stream",
     "text": [
      "ERROR:sipparty.fsm.fsm:Bad input 'initiate' to 'SimpleCall' instance 'SimpleCall1' (current state 'InitiatingDialog').\n"
     ]
    },
    {
     "ename": "UnexpectedInput",
     "evalue": "Bad input 'initiate' to 'SimpleCall' instance 'SimpleCall1' (current state 'InitiatingDialog').",
     "output_type": "error",
     "traceback": [
      "\u001b[0;31m---------------------------------------------------------------------------\u001b[0m",
      "\u001b[0;31mUnexpectedInput\u001b[0m                           Traceback (most recent call last)",
      "\u001b[0;32m<ipython-input-9-37d721db58d2>\u001b[0m in \u001b[0;36m<module>\u001b[0;34m()\u001b[0m\n\u001b[1;32m      1\u001b[0m \u001b[0md1\u001b[0m\u001b[0;34m.\u001b[0m\u001b[0mtoURI\u001b[0m \u001b[0;34m=\u001b[0m \u001b[0md2\u001b[0m\u001b[0;34m.\u001b[0m\u001b[0mfromURI\u001b[0m \u001b[0;34m=\u001b[0m \u001b[0;34m'sip:username2@host'\u001b[0m\u001b[0;34m\u001b[0m\u001b[0m\n\u001b[0;32m----> 2\u001b[0;31m \u001b[0md1\u001b[0m\u001b[0;34m.\u001b[0m\u001b[0minitiate\u001b[0m\u001b[0;34m(\u001b[0m\u001b[0;34m)\u001b[0m\u001b[0;34m\u001b[0m\u001b[0m\n\u001b[0m",
      "\u001b[0;32m/Users/daphtdazz/github/sipparty/sipparty/sip/dialog.pyc\u001b[0m in \u001b[0;36minitiate\u001b[0;34m(self, *args, **kwargs)\u001b[0m\n\u001b[1;32m    128\u001b[0m     \u001b[0;32mdef\u001b[0m \u001b[0minitiate\u001b[0m\u001b[0;34m(\u001b[0m\u001b[0mself\u001b[0m\u001b[0;34m,\u001b[0m \u001b[0;34m*\u001b[0m\u001b[0margs\u001b[0m\u001b[0;34m,\u001b[0m \u001b[0;34m**\u001b[0m\u001b[0mkwargs\u001b[0m\u001b[0;34m)\u001b[0m\u001b[0;34m:\u001b[0m\u001b[0;34m\u001b[0m\u001b[0m\n\u001b[1;32m    129\u001b[0m         \u001b[0mlog\u001b[0m\u001b[0;34m.\u001b[0m\u001b[0mdebug\u001b[0m\u001b[0;34m(\u001b[0m\u001b[0;34m\"Initiating dialog...\"\u001b[0m\u001b[0;34m)\u001b[0m\u001b[0;34m\u001b[0m\u001b[0m\n\u001b[0;32m--> 130\u001b[0;31m         \u001b[0mself\u001b[0m\u001b[0;34m.\u001b[0m\u001b[0mhit\u001b[0m\u001b[0;34m(\u001b[0m\u001b[0mInputs\u001b[0m\u001b[0;34m.\u001b[0m\u001b[0minitiate\u001b[0m\u001b[0;34m,\u001b[0m \u001b[0;34m*\u001b[0m\u001b[0margs\u001b[0m\u001b[0;34m,\u001b[0m \u001b[0;34m**\u001b[0m\u001b[0mkwargs\u001b[0m\u001b[0;34m)\u001b[0m\u001b[0;34m\u001b[0m\u001b[0m\n\u001b[0m\u001b[1;32m    131\u001b[0m \u001b[0;34m\u001b[0m\u001b[0m\n\u001b[1;32m    132\u001b[0m     \u001b[0;32mdef\u001b[0m \u001b[0mterminate\u001b[0m\u001b[0;34m(\u001b[0m\u001b[0mself\u001b[0m\u001b[0;34m,\u001b[0m \u001b[0;34m*\u001b[0m\u001b[0margs\u001b[0m\u001b[0;34m,\u001b[0m \u001b[0;34m**\u001b[0m\u001b[0mkwargs\u001b[0m\u001b[0;34m)\u001b[0m\u001b[0;34m:\u001b[0m\u001b[0;34m\u001b[0m\u001b[0m\n",
      "\u001b[0;32m/Users/daphtdazz/github/sipparty/sipparty/fsm/fsm.pyc\u001b[0m in \u001b[0;36mhit\u001b[0;34m(self, input, *args, **kwargs)\u001b[0m\n\u001b[1;32m    396\u001b[0m         \u001b[0mself\u001b[0m\u001b[0;34m.\u001b[0m\u001b[0m_fsm_inputQueue\u001b[0m\u001b[0;34m.\u001b[0m\u001b[0mput\u001b[0m\u001b[0;34m(\u001b[0m\u001b[0;34m(\u001b[0m\u001b[0minput\u001b[0m\u001b[0;34m,\u001b[0m \u001b[0margs\u001b[0m\u001b[0;34m,\u001b[0m \u001b[0mkwargs\u001b[0m\u001b[0;34m)\u001b[0m\u001b[0;34m)\u001b[0m\u001b[0;34m\u001b[0m\u001b[0m\n\u001b[1;32m    397\u001b[0m \u001b[0;34m\u001b[0m\u001b[0m\n\u001b[0;32m--> 398\u001b[0;31m         \u001b[0mself\u001b[0m\u001b[0;34m.\u001b[0m\u001b[0m_fsm_popTimerNow\u001b[0m\u001b[0;34m(\u001b[0m\u001b[0;34m)\u001b[0m\u001b[0;34m\u001b[0m\u001b[0m\n\u001b[0m\u001b[1;32m    399\u001b[0m \u001b[0;34m\u001b[0m\u001b[0m\n\u001b[1;32m    400\u001b[0m     \u001b[0;32mdef\u001b[0m \u001b[0mwaitForStateCondition\u001b[0m\u001b[0;34m(\u001b[0m\u001b[0mself\u001b[0m\u001b[0;34m,\u001b[0m \u001b[0mcondition\u001b[0m\u001b[0;34m,\u001b[0m \u001b[0mtimeout\u001b[0m\u001b[0;34m=\u001b[0m\u001b[0;36m5\u001b[0m\u001b[0;34m)\u001b[0m\u001b[0;34m:\u001b[0m\u001b[0;34m\u001b[0m\u001b[0m\n",
      "\u001b[0;32m/Users/daphtdazz/github/sipparty/sipparty/fsm/fsm.pyc\u001b[0m in \u001b[0;36m_fsm_popTimerNow\u001b[0;34m(self)\u001b[0m\n\u001b[1;32m    646\u001b[0m             \u001b[0mself\u001b[0m\u001b[0;34m.\u001b[0m\u001b[0m_fsm_thread\u001b[0m\u001b[0;34m.\u001b[0m\u001b[0maddRetryTime\u001b[0m\u001b[0;34m(\u001b[0m\u001b[0mutil\u001b[0m\u001b[0;34m.\u001b[0m\u001b[0mClock\u001b[0m\u001b[0;34m(\u001b[0m\u001b[0;34m)\u001b[0m\u001b[0;34m)\u001b[0m\u001b[0;34m\u001b[0m\u001b[0m\n\u001b[1;32m    647\u001b[0m         \u001b[0;32melse\u001b[0m\u001b[0;34m:\u001b[0m\u001b[0;34m\u001b[0m\u001b[0m\n\u001b[0;32m--> 648\u001b[0;31m             \u001b[0mself\u001b[0m\u001b[0;34m.\u001b[0m\u001b[0m_fsm_backgroundTimerPop\u001b[0m\u001b[0;34m(\u001b[0m\u001b[0;34m)\u001b[0m\u001b[0;34m\u001b[0m\u001b[0m\n\u001b[0m\u001b[1;32m    649\u001b[0m \u001b[0;34m\u001b[0m\u001b[0m\n\u001b[1;32m    650\u001b[0m     \u001b[0;32mdef\u001b[0m \u001b[0m_fsm_backgroundTimerPop\u001b[0m\u001b[0;34m(\u001b[0m\u001b[0mself\u001b[0m\u001b[0;34m)\u001b[0m\u001b[0;34m:\u001b[0m\u001b[0;34m\u001b[0m\u001b[0m\n",
      "\u001b[0;32m/Users/daphtdazz/github/sipparty/sipparty/fsm/fsm.pyc\u001b[0m in \u001b[0;36m_fsm_backgroundTimerPop\u001b[0;34m(self)\u001b[0m\n\u001b[1;32m    655\u001b[0m             \u001b[0mlog\u001b[0m\u001b[0;34m.\u001b[0m\u001b[0mdebug\u001b[0m\u001b[0;34m(\u001b[0m\u001b[0;34m\"Process input %r.\"\u001b[0m\u001b[0;34m,\u001b[0m \u001b[0minput\u001b[0m\u001b[0;34m)\u001b[0m\u001b[0;34m\u001b[0m\u001b[0m\n\u001b[1;32m    656\u001b[0m             \u001b[0;32mtry\u001b[0m\u001b[0;34m:\u001b[0m\u001b[0;34m\u001b[0m\u001b[0m\n\u001b[0;32m--> 657\u001b[0;31m                 \u001b[0mself\u001b[0m\u001b[0;34m.\u001b[0m\u001b[0m_fsm_hit\u001b[0m\u001b[0;34m(\u001b[0m\u001b[0minput\u001b[0m\u001b[0;34m,\u001b[0m \u001b[0;34m*\u001b[0m\u001b[0margs\u001b[0m\u001b[0;34m,\u001b[0m \u001b[0;34m**\u001b[0m\u001b[0mkwargs\u001b[0m\u001b[0;34m)\u001b[0m\u001b[0;34m\u001b[0m\u001b[0m\n\u001b[0m\u001b[1;32m    658\u001b[0m             \u001b[0;32mfinally\u001b[0m\u001b[0;34m:\u001b[0m\u001b[0;34m\u001b[0m\u001b[0m\n\u001b[1;32m    659\u001b[0m                 \u001b[0mself\u001b[0m\u001b[0;34m.\u001b[0m\u001b[0m_fsm_inputQueue\u001b[0m\u001b[0;34m.\u001b[0m\u001b[0mtask_done\u001b[0m\u001b[0;34m(\u001b[0m\u001b[0;34m)\u001b[0m\u001b[0;34m\u001b[0m\u001b[0m\n",
      "\u001b[0;32m/Users/daphtdazz/github/sipparty/sipparty/util.pyc\u001b[0m in \u001b[0;36mmaybeGetLock\u001b[0;34m(self, *args, **kwargs)\u001b[0m\n\u001b[1;32m    559\u001b[0m             \u001b[0mself\u001b[0m\u001b[0;34m.\u001b[0m\u001b[0m_lock_holdingThread\u001b[0m \u001b[0;34m=\u001b[0m \u001b[0mcthr\u001b[0m\u001b[0;34m\u001b[0m\u001b[0m\n\u001b[1;32m    560\u001b[0m             \u001b[0;32mtry\u001b[0m\u001b[0;34m:\u001b[0m\u001b[0;34m\u001b[0m\u001b[0m\n\u001b[0;32m--> 561\u001b[0;31m                 \u001b[0mresult\u001b[0m \u001b[0;34m=\u001b[0m \u001b[0mmethod\u001b[0m\u001b[0;34m(\u001b[0m\u001b[0mself\u001b[0m\u001b[0;34m,\u001b[0m \u001b[0;34m*\u001b[0m\u001b[0margs\u001b[0m\u001b[0;34m,\u001b[0m \u001b[0;34m**\u001b[0m\u001b[0mkwargs\u001b[0m\u001b[0;34m)\u001b[0m\u001b[0;34m\u001b[0m\u001b[0m\n\u001b[0m\u001b[1;32m    562\u001b[0m             \u001b[0;32mfinally\u001b[0m\u001b[0;34m:\u001b[0m\u001b[0;34m\u001b[0m\u001b[0m\n\u001b[1;32m    563\u001b[0m                 \u001b[0mself\u001b[0m\u001b[0;34m.\u001b[0m\u001b[0m_lock_holdingThread\u001b[0m \u001b[0;34m=\u001b[0m \u001b[0mNone\u001b[0m\u001b[0;34m\u001b[0m\u001b[0m\n",
      "\u001b[0;32m/Users/daphtdazz/github/sipparty/sipparty/fsm/fsm.pyc\u001b[0m in \u001b[0;36m_fsm_hit\u001b[0;34m(self, input, *args, **kwargs)\u001b[0m\n\u001b[1;32m    604\u001b[0m \u001b[0;34m\u001b[0m\u001b[0m\n\u001b[1;32m    605\u001b[0m         \u001b[0;32mif\u001b[0m \u001b[0minput\u001b[0m \u001b[0;32mnot\u001b[0m \u001b[0;32min\u001b[0m \u001b[0mtrans\u001b[0m\u001b[0;34m:\u001b[0m\u001b[0;34m\u001b[0m\u001b[0m\n\u001b[0;32m--> 606\u001b[0;31m             \u001b[0mBadInput\u001b[0m\u001b[0;34m(\u001b[0m\u001b[0;34m)\u001b[0m\u001b[0;34m\u001b[0m\u001b[0m\n\u001b[0m\u001b[1;32m    607\u001b[0m \u001b[0;34m\u001b[0m\u001b[0m\n\u001b[1;32m    608\u001b[0m         \u001b[0mres\u001b[0m \u001b[0;34m=\u001b[0m \u001b[0mtrans\u001b[0m\u001b[0;34m[\u001b[0m\u001b[0minput\u001b[0m\u001b[0;34m]\u001b[0m\u001b[0;34m\u001b[0m\u001b[0m\n",
      "\u001b[0;32m/Users/daphtdazz/github/sipparty/sipparty/fsm/fsm.pyc\u001b[0m in \u001b[0;36mBadInput\u001b[0;34m()\u001b[0m\n\u001b[1;32m    597\u001b[0m                 old_state)\n\u001b[1;32m    598\u001b[0m             \u001b[0mlog\u001b[0m\u001b[0;34m.\u001b[0m\u001b[0merror\u001b[0m\u001b[0;34m(\u001b[0m\u001b[0mmsg\u001b[0m\u001b[0;34m)\u001b[0m\u001b[0;34m\u001b[0m\u001b[0m\n\u001b[0;32m--> 599\u001b[0;31m             \u001b[0;32mraise\u001b[0m \u001b[0mUnexpectedInput\u001b[0m\u001b[0;34m(\u001b[0m\u001b[0mmsg\u001b[0m\u001b[0;34m)\u001b[0m\u001b[0;34m\u001b[0m\u001b[0m\n\u001b[0m\u001b[1;32m    600\u001b[0m \u001b[0;34m\u001b[0m\u001b[0m\n\u001b[1;32m    601\u001b[0m         \u001b[0;32mif\u001b[0m \u001b[0mold_state\u001b[0m \u001b[0;32mnot\u001b[0m \u001b[0;32min\u001b[0m \u001b[0mts\u001b[0m\u001b[0;34m:\u001b[0m\u001b[0;34m\u001b[0m\u001b[0m\n",
      "\u001b[0;31mUnexpectedInput\u001b[0m: Bad input 'initiate' to 'SimpleCall' instance 'SimpleCall1' (current state 'InitiatingDialog')."
     ]
    }
   ],
   "source": [
    "d1.toURI = d2.fromURI = 'sip:username2@host'\n",
    "d1.initiate()"
   ]
  },
  {
   "cell_type": "code",
   "execution_count": null,
   "metadata": {
    "collapsed": true
   },
   "outputs": [],
   "source": []
  }
 ],
 "metadata": {
  "kernelspec": {
   "display_name": "Python 2",
   "language": "python",
   "name": "python2"
  },
  "language_info": {
   "codemirror_mode": {
    "name": "ipython",
    "version": 2
   },
   "file_extension": ".py",
   "mimetype": "text/x-python",
   "name": "python",
   "nbconvert_exporter": "python",
   "pygments_lexer": "ipython2",
   "version": "2.7.10"
  }
 },
 "nbformat": 4,
 "nbformat_minor": 0
}
