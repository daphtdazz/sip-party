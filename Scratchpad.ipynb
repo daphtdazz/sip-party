{
 "cells": [
  {
   "cell_type": "code",
   "execution_count": 96,
   "metadata": {
    "collapsed": false
   },
   "outputs": [
    {
     "name": "stdout",
     "output_type": "stream",
     "text": [
      "         100003 function calls in 0.357 seconds\n",
      "\n",
      "   Ordered by: standard name\n",
      "\n",
      "   ncalls  tottime  percall  cumtime  percall filename:lineno(function)\n",
      "        1    0.191    0.191    0.357    0.357 <string>:1(<module>)\n",
      "   100000    0.163    0.000    0.163    0.000 <string>:1(afunc)\n",
      "        1    0.000    0.000    0.000    0.000 {method 'disable' of '_lsprof.Profiler' objects}\n",
      "        1    0.003    0.003    0.003    0.003 {range}\n",
      "\n",
      "\n",
      "         200003 function calls in 0.655 seconds\n",
      "\n",
      "   Ordered by: standard name\n",
      "\n",
      "   ncalls  tottime  percall  cumtime  percall filename:lineno(function)\n",
      "        1    0.348    0.348    0.655    0.655 <string>:1(<module>)\n",
      "   100000    0.155    0.000    0.155    0.000 <string>:1(afunc)\n",
      "        1    0.000    0.000    0.000    0.000 {method 'disable' of '_lsprof.Profiler' objects}\n",
      "   100000    0.151    0.000    0.151    0.000 {method 'get' of 'dict' objects}\n",
      "        1    0.001    0.001    0.001    0.001 {range}\n",
      "\n",
      "\n",
      "0.0207271575928\n",
      "0.0237429141998\n"
     ]
    }
   ],
   "source": [
    "from cProfile import run\n",
    "from timeit import timeit\n",
    "\n",
    "f1 = \"\"\"\\\n",
    "def afunc(a):\n",
    "    return a * 2\n",
    "sentinel = type('sentinel', (), {})()\n",
    "mydict = {'a': 2}\n",
    "for ii in range(100000):\n",
    "    mydict['a'] = 2\n",
    "    if 'a' in mydict:\n",
    "        val = afunc(mydict['a'])\n",
    "\"\"\"\n",
    "f2 = \"\"\"\\\n",
    "def afunc(a):\n",
    "    return a * 2\n",
    "sentinel = type('sentinel', (), {})()\n",
    "mydict = {'a': 2}\n",
    "for ii in range(100000):\n",
    "    mydict['a'] = 2\n",
    "    val2 = mydict.get('a', sentinel)\n",
    "    if val2 is not sentinel:\n",
    "        val = afunc(val2)\n",
    "\"\"\"\n",
    "\n",
    "run(f1)\n",
    "run(f2)\n",
    "print(timeit(f1, number=1))\n",
    "print(timeit(f2, number=1))"
   ]
  },
  {
   "cell_type": "code",
   "execution_count": 45,
   "metadata": {
    "collapsed": false
   },
   "outputs": [
    {
     "ename": "TypeError",
     "evalue": "tuple indices must be integers, not str",
     "output_type": "error",
     "traceback": [
      "\u001b[1;31m---------------------------------------------------------------------------\u001b[0m",
      "\u001b[1;31mTypeError\u001b[0m                                 Traceback (most recent call last)",
      "\u001b[1;32m<ipython-input-45-12c89d7d4689>\u001b[0m in \u001b[0;36m<module>\u001b[1;34m()\u001b[0m\n\u001b[0;32m      1\u001b[0m \u001b[0mhasattr\u001b[0m\u001b[1;33m(\u001b[0m\u001b[0mEncodings\u001b[0m\u001b[1;33m,\u001b[0m \u001b[1;34m'GSM 03.38'\u001b[0m\u001b[1;33m)\u001b[0m\u001b[1;33m\u001b[0m\u001b[0m\n\u001b[1;32m----> 2\u001b[1;33m \u001b[0mEncodings\u001b[0m\u001b[1;33m[\u001b[0m\u001b[1;34m'ASCII'\u001b[0m\u001b[1;33m]\u001b[0m\u001b[1;33m\u001b[0m\u001b[0m\n\u001b[0m",
      "\u001b[1;31mTypeError\u001b[0m: tuple indices must be integers, not str"
     ]
    }
   ],
   "source": []
  },
  {
   "cell_type": "code",
   "execution_count": 55,
   "metadata": {
    "collapsed": false
   },
   "outputs": [
    {
     "name": "stdout",
     "output_type": "stream",
     "text": [
      "6\n"
     ]
    }
   ],
   "source": [
    "myd = {1: 5, 'a': 6}\n",
    "print(myd.get('a', None))"
   ]
  }
 ],
 "metadata": {
  "kernelspec": {
   "display_name": "Python 2",
   "language": "python",
   "name": "python2"
  },
  "language_info": {
   "codemirror_mode": {
    "name": "ipython",
    "version": 2
   },
   "file_extension": ".py",
   "mimetype": "text/x-python",
   "name": "python",
   "nbconvert_exporter": "python",
   "pygments_lexer": "ipython2",
   "version": "2.7.10"
  }
 },
 "nbformat": 4,
 "nbformat_minor": 0
}
