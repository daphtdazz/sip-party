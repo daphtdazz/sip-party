{
 "cells": [
  {
   "cell_type": "markdown",
   "metadata": {},
   "source": [
    "# Party time #\n",
    "\n",
    "In this tutorial we will look at the classes that put the \"party\" in `sipparty`.\n",
    "\n",
    "\"Party\" here means a person who wants to make SIP calls (or participate in other types of \"Session\" via the \"Session Initiation Protocol\"). `Party` is the highest-level object in `sipparty`.\n",
    "\n",
    "## Types of party ##\n",
    "\n",
    "So, let's see what types of party we can have with `sipparty`."
   ]
  },
  {
   "cell_type": "code",
   "execution_count": 1,
   "metadata": {
    "collapsed": false
   },
   "outputs": [
    {
     "data": {
      "text/plain": [
       "[sipparty.parties.SingleRTPSessionSimplenParty,\n",
       " sipparty.parties.NoMediaSimpleCallsParty]"
      ]
     },
     "execution_count": 1,
     "metadata": {},
     "output_type": "execute_result"
    }
   ],
   "source": [
    "from sipparty.parties import AllPartyTypes\n",
    "AllPartyTypes"
   ]
  },
  {
   "cell_type": "markdown",
   "metadata": {},
   "source": [
    "Let's start with the `NoMediaSimpleCallsParty`. This is a demonstration type that doesn't include any media session, so it is just used for demonstrating the SIP signalling flow. \n",
    "\n",
    "## Parties listening ##\n",
    "\n",
    "The first thing to do with the party is start listening, so that we can receive calls."
   ]
  },
  {
   "cell_type": "code",
   "execution_count": 2,
   "metadata": {
    "collapsed": false
   },
   "outputs": [
    {
     "ename": "Incomplete",
     "evalue": "Party instance can't listen as it has an incomplete uri",
     "output_type": "error",
     "traceback": [
      "\u001b[1;31m---------------------------------------------------------------------------\u001b[0m",
      "\u001b[1;31mIncomplete\u001b[0m                                Traceback (most recent call last)",
      "\u001b[1;32m<ipython-input-2-a998927a17e2>\u001b[0m in \u001b[0;36m<module>\u001b[1;34m()\u001b[0m\n\u001b[0;32m      2\u001b[0m \u001b[0mNoMediaSimpleCallsParty\u001b[0m\u001b[1;33m\u001b[0m\u001b[0m\n\u001b[0;32m      3\u001b[0m \u001b[0mp1\u001b[0m \u001b[1;33m=\u001b[0m \u001b[0mNoMediaSimpleCallsParty\u001b[0m\u001b[1;33m(\u001b[0m\u001b[1;33m)\u001b[0m\u001b[1;33m\u001b[0m\u001b[0m\n\u001b[1;32m----> 4\u001b[1;33m \u001b[0mp1\u001b[0m\u001b[1;33m.\u001b[0m\u001b[0mlisten\u001b[0m\u001b[1;33m(\u001b[0m\u001b[1;33m)\u001b[0m\u001b[1;33m\u001b[0m\u001b[0m\n\u001b[0m",
      "\u001b[1;32m/data/home/github/sipparty/sipparty/party.pyc\u001b[0m in \u001b[0;36mlisten\u001b[1;34m(self, **kwargs)\u001b[0m\n\u001b[0;32m    135\u001b[0m         \u001b[0maor\u001b[0m \u001b[1;33m=\u001b[0m \u001b[0mself\u001b[0m\u001b[1;33m.\u001b[0m\u001b[0muri\u001b[0m\u001b[1;33m.\u001b[0m\u001b[0maor\u001b[0m\u001b[1;33m\u001b[0m\u001b[0m\n\u001b[0;32m    136\u001b[0m         \u001b[1;32mtry\u001b[0m\u001b[1;33m:\u001b[0m\u001b[1;33m\u001b[0m\u001b[0m\n\u001b[1;32m--> 137\u001b[1;33m             \u001b[0mbytes\u001b[0m\u001b[1;33m(\u001b[0m\u001b[0maor\u001b[0m\u001b[1;33m)\u001b[0m\u001b[1;33m\u001b[0m\u001b[0m\n\u001b[0m\u001b[0;32m    138\u001b[0m         \u001b[1;32mexcept\u001b[0m \u001b[0mIncomplete\u001b[0m \u001b[1;32mas\u001b[0m \u001b[0mexc\u001b[0m\u001b[1;33m:\u001b[0m\u001b[1;33m\u001b[0m\u001b[0m\n\u001b[0;32m    139\u001b[0m             exc.args = (\n",
      "\u001b[1;32m/data/home/github/sipparty/sipparty/sip/components.pyc\u001b[0m in \u001b[0;36m__bytes__\u001b[1;34m(self)\u001b[0m\n\u001b[0;32m    149\u001b[0m         \u001b[0mhost_bytes\u001b[0m \u001b[1;33m=\u001b[0m \u001b[0mbytes\u001b[0m\u001b[1;33m(\u001b[0m\u001b[0mhost\u001b[0m\u001b[1;33m)\u001b[0m\u001b[1;33m\u001b[0m\u001b[0m\n\u001b[0;32m    150\u001b[0m         \u001b[1;32mif\u001b[0m \u001b[0mlen\u001b[0m\u001b[1;33m(\u001b[0m\u001b[0mhost_bytes\u001b[0m\u001b[1;33m)\u001b[0m \u001b[1;33m==\u001b[0m \u001b[1;36m0\u001b[0m\u001b[1;33m:\u001b[0m\u001b[1;33m\u001b[0m\u001b[0m\n\u001b[1;32m--> 151\u001b[1;33m             \u001b[1;32mraise\u001b[0m \u001b[0mIncomplete\u001b[0m\u001b[1;33m(\u001b[0m\u001b[1;34m\"AOR %r has a zero-length host\"\u001b[0m \u001b[1;33m%\u001b[0m \u001b[0mself\u001b[0m\u001b[1;33m)\u001b[0m\u001b[1;33m\u001b[0m\u001b[0m\n\u001b[0m\u001b[0;32m    152\u001b[0m \u001b[1;33m\u001b[0m\u001b[0m\n\u001b[0;32m    153\u001b[0m         \u001b[0muname\u001b[0m \u001b[1;33m=\u001b[0m \u001b[0mself\u001b[0m\u001b[1;33m.\u001b[0m\u001b[0musername\u001b[0m\u001b[1;33m\u001b[0m\u001b[0m\n",
      "\u001b[1;31mIncomplete\u001b[0m: Party instance can't listen as it has an incomplete uri"
     ]
    }
   ],
   "source": [
    "from sipparty.parties import NoMediaSimpleCallsParty\n",
    "NoMediaSimpleCallsParty\n",
    "p1 = NoMediaSimpleCallsParty()\n",
    "p1.listen()"
   ]
  },
  {
   "cell_type": "markdown",
   "metadata": {},
   "source": [
    "But we can't just listen, because part of listening is to register the party's SIP identity with the transport component so that the party can be addressed. To do this, we need to configure a SIP URI on the party. Try doing so below:"
   ]
  },
  {
   "cell_type": "code",
   "execution_count": 5,
   "metadata": {
    "collapsed": false
   },
   "outputs": [
    {
     "data": {
      "text/plain": [
       "URI(headers='', absoluteURIPart=None, scheme='sip', aor=AOR(username='me2', host=Host(port=None, address='myhost.com')), parameters='')"
      ]
     },
     "execution_count": 5,
     "metadata": {},
     "output_type": "execute_result"
    }
   ],
   "source": [
    "p1.uri = 'sip:me2@myhost.com'\n",
    "p1.uri"
   ]
  },
  {
   "cell_type": "markdown",
   "metadata": {
    "collapsed": true
   },
   "source": [
    "The key thing to note here is that while we assigned a string to `p1.uri`, `sipparty` provides a mechanism for automatically parsing properties into deep object graphs via the `sipparty.parse.ParsedProperty` descriptor. If you were to try \n",
    "\n",
    "    p1.uri = 'notavalidURI-as-no-protocol-info'\n",
    "    \n",
    "You would get an error.\n",
    "\n",
    "Continuing, now we will be able to listen. By default we listen on port 5060, since this is the standard SIP port."
   ]
  },
  {
   "cell_type": "code",
   "execution_count": 6,
   "metadata": {
    "collapsed": false
   },
   "outputs": [
    {
     "data": {
      "text/plain": [
       "5060"
      ]
     },
     "execution_count": 6,
     "metadata": {},
     "output_type": "execute_result"
    }
   ],
   "source": [
    "p1.listen()\n",
    "p1.contact_uri.port"
   ]
  },
  {
   "cell_type": "markdown",
   "metadata": {},
   "source": [
    "We could in fact have overridden the default, and even provided a range of ports we'd have been happy with using a filter.\n",
    "\n",
    "    p1.listen(port=None, port_filter=lambda x: x % 2 == 0)\n",
    "    p1.contact_uri.port\n",
    "    \n",
    "However, if you try this straight away you'll get an error: once you're listening you have to unlisten before you can relisten, using:\n",
    "\n",
    "    p1.stop_listen()\n",
    "    \n",
    "[!! Not yet implemented !!]\n",
    "\n",
    "## Start a call. ##\n",
    "\n",
    "Now you've got a party, you could start a call to a remote person. However, for this demo we don't have a remote person to call, so we'll just have to create a new party and call that instead."
   ]
  },
  {
   "cell_type": "code",
   "execution_count": 7,
   "metadata": {
    "collapsed": false
   },
   "outputs": [
    {
     "name": "stderr",
     "output_type": "stream",
     "text": [
      "INFO:messages:Sent ('127.0.0.1', 49885) -> ('127.0.0.1', 5060)\n",
      ">>>>>\n",
      "INVITE sip:me2@myhost.com SIP/2.0\\r\\n\n",
      "From: <sip:you@yourhost.com>;tag=8cb7846a\\r\\n\n",
      "To: <sip:me2@myhost.com>\\r\\n\n",
      "Via: SIP/2.0/UDP 127.0.0.1:49885;branch=z9hG4bK3e8c6366be1d2e59\\r\\n\n",
      "Call-ID: 2436ce-20160413163336\\r\\n\n",
      "CSeq: 1646125513 INVITE\\r\\n\n",
      "Max-Forwards: 70\\r\\n\n",
      "Content-Length: 0\\r\\n\n",
      "Contact: <sip:you@127.0.0.1:49885>\\r\\n\n",
      "\\r\\n\n",
      ">>>>>\n",
      "INFO:messages: received ('127.0.0.1', 49885) -> ('0.0.0.0', 5060)\n",
      "<<<<<\n",
      "INVITE sip:me2@myhost.com SIP/2.0\\r\\n\n",
      "From: <sip:you@yourhost.com>;tag=8cb7846a\\r\\n\n",
      "To: <sip:me2@myhost.com>\\r\\n\n",
      "Via: SIP/2.0/UDP 127.0.0.1:49885;branch=z9hG4bK3e8c6366be1d2e59\\r\\n\n",
      "Call-ID: 2436ce-20160413163336\\r\\n\n",
      "CSeq: 1646125513 INVITE\\r\\n\n",
      "Max-Forwards: 70\\r\\n\n",
      "Content-Length: 0\\r\\n\n",
      "Contact: <sip:you@127.0.0.1:49885>\\r\\n\n",
      "\\r\\n\n",
      "<<<<<\n",
      "INFO:messages:Sent ('0.0.0.0', 5060) -> ('127.0.0.1', 49885)\n",
      ">>>>>\n",
      "SIP/2.0 200 OK\\r\\n\n",
      "From: <sip:you@yourhost.com>;tag=8cb7846a\\r\\n\n",
      "To: <sip:me2@myhost.com>;tag=da26dfa7\\r\\n\n",
      "Via: SIP/2.0/UDP 127.0.0.1:49885;branch=z9hG4bK3e8c6366be1d2e59\\r\\n\n",
      "Call-ID: 2436ce-20160413163336\\r\\n\n",
      "CSeq: 1646125513 INVITE\\r\\n\n",
      "Contact: <sip:0.0.0.0:5060>\\r\\n\n",
      "\\r\\n\n",
      ">>>>>\n",
      "INFO:messages: received ('127.0.0.1', 5060) -> ('127.0.0.1', 49885)\n",
      "<<<<<\n",
      "SIP/2.0 200 OK\\r\\n\n",
      "From: <sip:you@yourhost.com>;tag=8cb7846a\\r\\n\n",
      "To: <sip:me2@myhost.com>;tag=da26dfa7\\r\\n\n",
      "Via: SIP/2.0/UDP 127.0.0.1:49885;branch=z9hG4bK3e8c6366be1d2e59\\r\\n\n",
      "Call-ID: 2436ce-20160413163336\\r\\n\n",
      "CSeq: 1646125513 INVITE\\r\\n\n",
      "Contact: <sip:0.0.0.0:5060>\\r\\n\n",
      "\\r\\n\n",
      "<<<<<\n",
      "INFO:messages:Sent ('127.0.0.1', 49885) -> ('127.0.0.1', 5060)\n",
      ">>>>>\n",
      "ACK sip:me2@myhost.com SIP/2.0\\r\\n\n",
      "From: <sip:you@yourhost.com>;tag=8cb7846a\\r\\n\n",
      "Call-ID: 2436ce-20160413163336\\r\\n\n",
      "Via: SIP/2.0/UDP 127.0.0.1:49885;branch=z9hG4bK205838dbedb8416a\\r\\n\n",
      "Contact: <sip:you@127.0.0.1:49885>\\r\\n\n",
      "To: <sip:me2@myhost.com>;tag=da26dfa7\\r\\n\n",
      "\\r\\n\n",
      ">>>>>\n",
      "INFO:messages: received ('127.0.0.1', 49885) -> ('0.0.0.0', 5060)\n",
      "<<<<<\n",
      "ACK sip:me2@myhost.com SIP/2.0\\r\\n\n",
      "From: <sip:you@yourhost.com>;tag=8cb7846a\\r\\n\n",
      "Call-ID: 2436ce-20160413163336\\r\\n\n",
      "Via: SIP/2.0/UDP 127.0.0.1:49885;branch=z9hG4bK205838dbedb8416a\\r\\n\n",
      "Contact: <sip:you@127.0.0.1:49885>\\r\\n\n",
      "To: <sip:me2@myhost.com>;tag=da26dfa7\\r\\n\n",
      "\\r\\n\n",
      "<<<<<\n"
     ]
    }
   ],
   "source": [
    "p2 = NoMediaSimpleCallsParty(aor='you@yourhost.com')\n",
    "dlg = p2.invite(p1)"
   ]
  },
  {
   "cell_type": "markdown",
   "metadata": {},
   "source": [
    "> Note how we can specify the Address Of Record for the new party in the initialization call. The AOR is part of the URI, and `Party` classes will automatically delegate their AOR attribute through to their URI. So:\n",
    ">\n",
    ">     p1.uri.aor = 'me@myhost.com'\n",
    ">\n",
    "> is equivalent to:\n",
    ">\n",
    ">     p1.aor = 'me@myhost.com'\n",
    ">\n",
    "> The classes `sipparty.deepclass.DeepClass` and `sipparty.vb.ValueBinder` are used to achieve this.\n",
    "\n",
    "## Dialogs\n",
    "\n",
    "The `p1.invite()` method returns a `Dialog` instance which maintains the state of a particular call. Now if you want to manipulate that call, you can act on that. The `Dialog` instances are all independent, and you can have multiple dialogs per call. Let's create another one:"
   ]
  },
  {
   "cell_type": "code",
   "execution_count": 8,
   "metadata": {
    "collapsed": false
   },
   "outputs": [
    {
     "name": "stderr",
     "output_type": "stream",
     "text": [
      "INFO:messages:Sent ('127.0.0.1', 45630) -> ('127.0.0.1', 5060)\n",
      ">>>>>\n",
      "INVITE sip:me2@myhost.com SIP/2.0\\r\\n\n",
      "From: <sip:you@yourhost.com>;tag=6a750eb1\\r\\n\n",
      "To: <sip:me2@myhost.com>\\r\\n\n",
      "Via: SIP/2.0/UDP 127.0.0.1:45630;branch=z9hG4bK3e8c6366be1d2e55\\r\\n\n",
      "Call-ID: 725dc8-20160413163455\\r\\n\n",
      "CSeq: 54335618 INVITE\\r\\n\n",
      "Max-Forwards: 70\\r\\n\n",
      "Content-Length: 0\\r\\n\n",
      "Contact: <sip:you@127.0.0.1:45630>\\r\\n\n",
      "\\r\\n\n",
      ">>>>>\n",
      "INFO:messages: received ('127.0.0.1', 45630) -> ('0.0.0.0', 5060)\n",
      "<<<<<\n",
      "INVITE sip:me2@myhost.com SIP/2.0\\r\\n\n",
      "From: <sip:you@yourhost.com>;tag=6a750eb1\\r\\n\n",
      "To: <sip:me2@myhost.com>\\r\\n\n",
      "Via: SIP/2.0/UDP 127.0.0.1:45630;branch=z9hG4bK3e8c6366be1d2e55\\r\\n\n",
      "Call-ID: 725dc8-20160413163455\\r\\n\n",
      "CSeq: 54335618 INVITE\\r\\n\n",
      "Max-Forwards: 70\\r\\n\n",
      "Content-Length: 0\\r\\n\n",
      "Contact: <sip:you@127.0.0.1:45630>\\r\\n\n",
      "\\r\\n\n",
      "<<<<<\n",
      "INFO:messages:Sent ('0.0.0.0', 5060) -> ('127.0.0.1', 45630)\n",
      ">>>>>\n",
      "SIP/2.0 200 OK\\r\\n\n",
      "From: <sip:you@yourhost.com>;tag=6a750eb1\\r\\n\n",
      "To: <sip:me2@myhost.com>;tag=a38eda0e\\r\\n\n",
      "Via: SIP/2.0/UDP 127.0.0.1:45630;branch=z9hG4bK3e8c6366be1d2e55\\r\\n\n",
      "Call-ID: 725dc8-20160413163455\\r\\n\n",
      "CSeq: 54335618 INVITE\\r\\n\n",
      "Contact: <sip:0.0.0.0:5060>\\r\\n\n",
      "\\r\\n\n",
      ">>>>>\n",
      "INFO:messages: received ('127.0.0.1', 5060) -> ('127.0.0.1', 45630)\n",
      "<<<<<\n",
      "SIP/2.0 200 OK\\r\\n\n",
      "From: <sip:you@yourhost.com>;tag=6a750eb1\\r\\n\n",
      "To: <sip:me2@myhost.com>;tag=a38eda0e\\r\\n\n",
      "Via: SIP/2.0/UDP 127.0.0.1:45630;branch=z9hG4bK3e8c6366be1d2e55\\r\\n\n",
      "Call-ID: 725dc8-20160413163455\\r\\n\n",
      "CSeq: 54335618 INVITE\\r\\n\n",
      "Contact: <sip:0.0.0.0:5060>\\r\\n\n",
      "\\r\\n\n",
      "<<<<<\n",
      "INFO:messages:Sent ('127.0.0.1', 49885) -> ('127.0.0.1', 5060)\n",
      ">>>>>\n",
      "ACK sip:me2@myhost.com SIP/2.0\\r\\n\n",
      "From: <sip:you@yourhost.com>;tag=6a750eb1\\r\\n\n",
      "Call-ID: 725dc8-20160413163455\\r\\n\n",
      "Via: SIP/2.0/UDP 127.0.0.1:45630;branch=z9hG4bK205838dbedb84166\\r\\n\n",
      "Contact: <sip:you@127.0.0.1:45630>\\r\\n\n",
      "To: <sip:me2@myhost.com>;tag=a38eda0e\\r\\n\n",
      "\\r\\n\n",
      ">>>>>\n",
      "INFO:messages: received ('127.0.0.1', 49885) -> ('0.0.0.0', 5060)\n",
      "<<<<<\n",
      "ACK sip:me2@myhost.com SIP/2.0\\r\\n\n",
      "From: <sip:you@yourhost.com>;tag=6a750eb1\\r\\n\n",
      "Call-ID: 725dc8-20160413163455\\r\\n\n",
      "Via: SIP/2.0/UDP 127.0.0.1:45630;branch=z9hG4bK205838dbedb84166\\r\\n\n",
      "Contact: <sip:you@127.0.0.1:45630>\\r\\n\n",
      "To: <sip:me2@myhost.com>;tag=a38eda0e\\r\\n\n",
      "\\r\\n\n",
      "<<<<<\n"
     ]
    }
   ],
   "source": [
    "dlg2 = p2.invite(p1)"
   ]
  },
  {
   "cell_type": "markdown",
   "metadata": {
    "collapsed": true
   },
   "source": [
    "Dialogs all act asynchronously. So the state of them may change at any time. See what state your dialogs are in now."
   ]
  },
  {
   "cell_type": "code",
   "execution_count": 9,
   "metadata": {
    "collapsed": false
   },
   "outputs": [
    {
     "name": "stdout",
     "output_type": "stream",
     "text": [
      "InDialog\n",
      "InDialog\n"
     ]
    }
   ],
   "source": [
    "print(dlg.state)\n",
    "print(dlg2.state)"
   ]
  },
  {
   "cell_type": "markdown",
   "metadata": {},
   "source": [
    "They should both be `InDialog` (you may have to wait a second). \n",
    "\n",
    "## Terminate\n",
    "\n",
    "Terminate one of them now:"
   ]
  },
  {
   "cell_type": "code",
   "execution_count": 10,
   "metadata": {
    "collapsed": false
   },
   "outputs": [
    {
     "name": "stderr",
     "output_type": "stream",
     "text": [
      "INFO:messages:Sent ('127.0.0.1', 49885) -> ('127.0.0.1', 5060)\n",
      ">>>>>\n",
      "BYE sip:me2@myhost.com SIP/2.0\\r\\n\n",
      "From: <sip:you@yourhost.com>;tag=6a750eb1\\r\\n\n",
      "To: <sip:me2@myhost.com>;tag=a38eda0e\\r\\n\n",
      "Via: SIP/2.0/UDP 127.0.0.1:49885;branch=z9hG4bK760bdcf174fa7ed2\\r\\n\n",
      "Call-ID: 725dc8-20160413163455\\r\\n\n",
      "CSeq: 261280818 BYE\\r\\n\n",
      "Max-Forwards: 70\\r\\n\n",
      "Content-Length: 0\\r\\n\n",
      "Contact: <sip:you@127.0.0.1:49885>\\r\\n\n",
      "\\r\\n\n",
      ">>>>>\n",
      "INFO:messages: received ('127.0.0.1', 49885) -> ('0.0.0.0', 5060)\n",
      "<<<<<\n",
      "BYE sip:me2@myhost.com SIP/2.0\\r\\n\n",
      "From: <sip:you@yourhost.com>;tag=6a750eb1\\r\\n\n",
      "To: <sip:me2@myhost.com>;tag=a38eda0e\\r\\n\n",
      "Via: SIP/2.0/UDP 127.0.0.1:49885;branch=z9hG4bK760bdcf174fa7ed2\\r\\n\n",
      "Call-ID: 725dc8-20160413163455\\r\\n\n",
      "CSeq: 261280818 BYE\\r\\n\n",
      "Max-Forwards: 70\\r\\n\n",
      "Content-Length: 0\\r\\n\n",
      "Contact: <sip:you@127.0.0.1:49885>\\r\\n\n",
      "\\r\\n\n",
      "<<<<<\n"
     ]
    },
    {
     "data": {
      "text/plain": [
       "'InDialog'"
      ]
     },
     "execution_count": 10,
     "metadata": {},
     "output_type": "execute_result"
    },
    {
     "name": "stderr",
     "output_type": "stream",
     "text": [
      "INFO:messages:Sent ('0.0.0.0', 5060) -> ('127.0.0.1', 49885)\n",
      ">>>>>\n",
      "SIP/2.0 200 OK\\r\\n\n",
      "From: <sip:you@yourhost.com>;tag=6a750eb1\\r\\n\n",
      "To: <sip:me2@myhost.com>;tag=a38eda0e\\r\\n\n",
      "Via: SIP/2.0/UDP 127.0.0.1:49885;branch=z9hG4bK760bdcf174fa7ed2\\r\\n\n",
      "Call-ID: 725dc8-20160413163455\\r\\n\n",
      "CSeq: 261280818 BYE\\r\\n\n",
      "Contact: <sip:0.0.0.0:5060>\\r\\n\n",
      "\\r\\n\n",
      ">>>>>\n",
      "INFO:messages: received ('127.0.0.1', 5060) -> ('127.0.0.1', 49885)\n",
      "<<<<<\n",
      "SIP/2.0 200 OK\\r\\n\n",
      "From: <sip:you@yourhost.com>;tag=6a750eb1\\r\\n\n",
      "To: <sip:me2@myhost.com>;tag=a38eda0e\\r\\n\n",
      "Via: SIP/2.0/UDP 127.0.0.1:49885;branch=z9hG4bK760bdcf174fa7ed2\\r\\n\n",
      "Call-ID: 725dc8-20160413163455\\r\\n\n",
      "CSeq: 261280818 BYE\\r\\n\n",
      "Contact: <sip:0.0.0.0:5060>\\r\\n\n",
      "\\r\\n\n",
      "<<<<<\n",
      "INFO:messages:Sent ('127.0.0.1', 49885) -> ('127.0.0.1', 5060)\n",
      ">>>>>\n",
      "ACK sip:me2@myhost.com SIP/2.0\\r\\n\n",
      "From: <sip:you@yourhost.com>;tag=6a750eb1\\r\\n\n",
      "Call-ID: 725dc8-20160413163455\\r\\n\n",
      "Via: SIP/2.0/UDP 127.0.0.1:49885;branch=z9hG4bK205838dbedc783d1\\r\\n\n",
      "Contact: <sip:you@127.0.0.1:49885>\\r\\n\n",
      "To: <sip:me2@myhost.com>;tag=a38eda0e\\r\\n\n",
      "\\r\\n\n",
      ">>>>>\n",
      "INFO:messages: received ('127.0.0.1', 49885) -> ('0.0.0.0', 5060)\n",
      "<<<<<\n",
      "ACK sip:me2@myhost.com SIP/2.0\\r\\n\n",
      "From: <sip:you@yourhost.com>;tag=6a750eb1\\r\\n\n",
      "Call-ID: 725dc8-20160413163455\\r\\n\n",
      "Via: SIP/2.0/UDP 127.0.0.1:49885;branch=z9hG4bK205838dbedc783d1\\r\\n\n",
      "Contact: <sip:you@127.0.0.1:49885>\\r\\n\n",
      "To: <sip:me2@myhost.com>;tag=a38eda0e\\r\\n\n",
      "\\r\\n\n",
      "<<<<<\n"
     ]
    }
   ],
   "source": [
    "dlg2.terminate()\n",
    "dlg.state"
   ]
  },
  {
   "cell_type": "markdown",
   "metadata": {},
   "source": [
    "It might take a couple of seconds, but the state should move to `Terminated`. "
   ]
  },
  {
   "cell_type": "code",
   "execution_count": 11,
   "metadata": {
    "collapsed": false
   },
   "outputs": [
    {
     "data": {
      "text/plain": [
       "'Terminated'"
      ]
     },
     "execution_count": 11,
     "metadata": {},
     "output_type": "execute_result"
    }
   ],
   "source": [
    "dlg2.state"
   ]
  },
  {
   "cell_type": "markdown",
   "metadata": {},
   "source": [
    "For curiosity's sake, see what happens if you terminate again."
   ]
  },
  {
   "cell_type": "code",
   "execution_count": 12,
   "metadata": {
    "collapsed": false
   },
   "outputs": [
    {
     "name": "stderr",
     "output_type": "stream",
     "text": [
      "ERROR:sipparty.fsm.fsm:Bad input 'terminate' to 'SimpleCall' instance 'SimpleCall3' (current state 'Terminated').\n"
     ]
    },
    {
     "ename": "UnexpectedInput",
     "evalue": "Bad input 'terminate' to 'SimpleCall' instance 'SimpleCall3' (current state 'Terminated').",
     "output_type": "error",
     "traceback": [
      "\u001b[1;31m---------------------------------------------------------------------------\u001b[0m",
      "\u001b[1;31mUnexpectedInput\u001b[0m                           Traceback (most recent call last)",
      "\u001b[1;32m<ipython-input-12-ad1df69d080b>\u001b[0m in \u001b[0;36m<module>\u001b[1;34m()\u001b[0m\n\u001b[1;32m----> 1\u001b[1;33m \u001b[0mdlg2\u001b[0m\u001b[1;33m.\u001b[0m\u001b[0mterminate\u001b[0m\u001b[1;33m(\u001b[0m\u001b[1;33m)\u001b[0m\u001b[1;33m\u001b[0m\u001b[0m\n\u001b[0m",
      "\u001b[1;32m/data/home/github/sipparty/sipparty/sip/dialog.pyc\u001b[0m in \u001b[0;36mterminate\u001b[1;34m(self, *args, **kwargs)\u001b[0m\n\u001b[0;32m    126\u001b[0m \u001b[1;33m\u001b[0m\u001b[0m\n\u001b[0;32m    127\u001b[0m     \u001b[1;32mdef\u001b[0m \u001b[0mterminate\u001b[0m\u001b[1;33m(\u001b[0m\u001b[0mself\u001b[0m\u001b[1;33m,\u001b[0m \u001b[1;33m*\u001b[0m\u001b[0margs\u001b[0m\u001b[1;33m,\u001b[0m \u001b[1;33m**\u001b[0m\u001b[0mkwargs\u001b[0m\u001b[1;33m)\u001b[0m\u001b[1;33m:\u001b[0m\u001b[1;33m\u001b[0m\u001b[0m\n\u001b[1;32m--> 128\u001b[1;33m         \u001b[0mself\u001b[0m\u001b[1;33m.\u001b[0m\u001b[0mhit\u001b[0m\u001b[1;33m(\u001b[0m\u001b[0mInputs\u001b[0m\u001b[1;33m.\u001b[0m\u001b[0mterminate\u001b[0m\u001b[1;33m,\u001b[0m \u001b[1;33m*\u001b[0m\u001b[0margs\u001b[0m\u001b[1;33m,\u001b[0m \u001b[1;33m**\u001b[0m\u001b[0mkwargs\u001b[0m\u001b[1;33m)\u001b[0m\u001b[1;33m\u001b[0m\u001b[0m\n\u001b[0m\u001b[0;32m    129\u001b[0m \u001b[1;33m\u001b[0m\u001b[0m\n\u001b[0;32m    130\u001b[0m     \u001b[1;32mdef\u001b[0m \u001b[0mreceiveMessage\u001b[0m\u001b[1;33m(\u001b[0m\u001b[0mself\u001b[0m\u001b[1;33m,\u001b[0m \u001b[0mmsg\u001b[0m\u001b[1;33m)\u001b[0m\u001b[1;33m:\u001b[0m\u001b[1;33m\u001b[0m\u001b[0m\n",
      "\u001b[1;32m/data/home/github/sipparty/sipparty/util.pyc\u001b[0m in \u001b[0;36mmaybeGetLock\u001b[1;34m(self, *args, **kwargs)\u001b[0m\n\u001b[0;32m    586\u001b[0m             \u001b[0mself\u001b[0m\u001b[1;33m.\u001b[0m\u001b[0m_lock_holdingThread\u001b[0m \u001b[1;33m=\u001b[0m \u001b[0mcthr\u001b[0m\u001b[1;33m\u001b[0m\u001b[0m\n\u001b[0;32m    587\u001b[0m             \u001b[1;32mtry\u001b[0m\u001b[1;33m:\u001b[0m\u001b[1;33m\u001b[0m\u001b[0m\n\u001b[1;32m--> 588\u001b[1;33m                 \u001b[0mresult\u001b[0m \u001b[1;33m=\u001b[0m \u001b[0mmethod\u001b[0m\u001b[1;33m(\u001b[0m\u001b[0mself\u001b[0m\u001b[1;33m,\u001b[0m \u001b[1;33m*\u001b[0m\u001b[0margs\u001b[0m\u001b[1;33m,\u001b[0m \u001b[1;33m**\u001b[0m\u001b[0mkwargs\u001b[0m\u001b[1;33m)\u001b[0m\u001b[1;33m\u001b[0m\u001b[0m\n\u001b[0m\u001b[0;32m    589\u001b[0m             \u001b[1;32mfinally\u001b[0m\u001b[1;33m:\u001b[0m\u001b[1;33m\u001b[0m\u001b[0m\n\u001b[0;32m    590\u001b[0m                 \u001b[0mself\u001b[0m\u001b[1;33m.\u001b[0m\u001b[0m_lock_holdingThread\u001b[0m \u001b[1;33m=\u001b[0m \u001b[0mNone\u001b[0m\u001b[1;33m\u001b[0m\u001b[0m\n",
      "\u001b[1;32m/data/home/github/sipparty/sipparty/fsm/fsm.pyc\u001b[0m in \u001b[0;36mhit\u001b[1;34m(self, input, *args, **kwargs)\u001b[0m\n\u001b[0;32m    363\u001b[0m         \u001b[1;32mtry\u001b[0m\u001b[1;33m:\u001b[0m\u001b[1;33m\u001b[0m\u001b[0m\n\u001b[0;32m    364\u001b[0m             \u001b[0mself\u001b[0m\u001b[1;33m.\u001b[0m\u001b[0m__processing_hit\u001b[0m \u001b[1;33m=\u001b[0m \u001b[0mTrue\u001b[0m\u001b[1;33m\u001b[0m\u001b[0m\n\u001b[1;32m--> 365\u001b[1;33m             \u001b[1;32mreturn\u001b[0m \u001b[0mself\u001b[0m\u001b[1;33m.\u001b[0m\u001b[0m_fsm_hit\u001b[0m\u001b[1;33m(\u001b[0m\u001b[0minput\u001b[0m\u001b[1;33m,\u001b[0m \u001b[1;33m*\u001b[0m\u001b[0margs\u001b[0m\u001b[1;33m,\u001b[0m \u001b[1;33m**\u001b[0m\u001b[0mkwargs\u001b[0m\u001b[1;33m)\u001b[0m\u001b[1;33m\u001b[0m\u001b[0m\n\u001b[0m\u001b[0;32m    366\u001b[0m         \u001b[1;32mfinally\u001b[0m\u001b[1;33m:\u001b[0m\u001b[1;33m\u001b[0m\u001b[0m\n\u001b[0;32m    367\u001b[0m             \u001b[0mself\u001b[0m\u001b[1;33m.\u001b[0m\u001b[0m__processing_hit\u001b[0m \u001b[1;33m=\u001b[0m \u001b[0mFalse\u001b[0m\u001b[1;33m\u001b[0m\u001b[0m\n",
      "\u001b[1;32m/data/home/github/sipparty/sipparty/fsm/fsm.pyc\u001b[0m in \u001b[0;36m_fsm_hit\u001b[1;34m(self, input, *args, **kwargs)\u001b[0m\n\u001b[0;32m    598\u001b[0m \u001b[1;33m\u001b[0m\u001b[0m\n\u001b[0;32m    599\u001b[0m         \u001b[1;32mif\u001b[0m \u001b[0mold_state\u001b[0m \u001b[1;32mnot\u001b[0m \u001b[1;32min\u001b[0m \u001b[0mts\u001b[0m\u001b[1;33m:\u001b[0m\u001b[1;33m\u001b[0m\u001b[0m\n\u001b[1;32m--> 600\u001b[1;33m             \u001b[0mBadInput\u001b[0m\u001b[1;33m(\u001b[0m\u001b[1;33m)\u001b[0m\u001b[1;33m\u001b[0m\u001b[0m\n\u001b[0m\u001b[0;32m    601\u001b[0m         \u001b[0mtrans\u001b[0m \u001b[1;33m=\u001b[0m \u001b[0mts\u001b[0m\u001b[1;33m[\u001b[0m\u001b[0mold_state\u001b[0m\u001b[1;33m]\u001b[0m\u001b[1;33m\u001b[0m\u001b[0m\n\u001b[0;32m    602\u001b[0m \u001b[1;33m\u001b[0m\u001b[0m\n",
      "\u001b[1;32m/data/home/github/sipparty/sipparty/fsm/fsm.pyc\u001b[0m in \u001b[0;36mBadInput\u001b[1;34m()\u001b[0m\n\u001b[0;32m    595\u001b[0m                 old_state)\n\u001b[0;32m    596\u001b[0m             \u001b[0mlog\u001b[0m\u001b[1;33m.\u001b[0m\u001b[0merror\u001b[0m\u001b[1;33m(\u001b[0m\u001b[0mmsg\u001b[0m\u001b[1;33m)\u001b[0m\u001b[1;33m\u001b[0m\u001b[0m\n\u001b[1;32m--> 597\u001b[1;33m             \u001b[1;32mraise\u001b[0m \u001b[0mUnexpectedInput\u001b[0m\u001b[1;33m(\u001b[0m\u001b[0mmsg\u001b[0m\u001b[1;33m)\u001b[0m\u001b[1;33m\u001b[0m\u001b[0m\n\u001b[0m\u001b[0;32m    598\u001b[0m \u001b[1;33m\u001b[0m\u001b[0m\n\u001b[0;32m    599\u001b[0m         \u001b[1;32mif\u001b[0m \u001b[0mold_state\u001b[0m \u001b[1;32mnot\u001b[0m \u001b[1;32min\u001b[0m \u001b[0mts\u001b[0m\u001b[1;33m:\u001b[0m\u001b[1;33m\u001b[0m\u001b[0m\n",
      "\u001b[1;31mUnexpectedInput\u001b[0m: Bad input 'terminate' to 'SimpleCall' instance 'SimpleCall3' (current state 'Terminated')."
     ]
    }
   ],
   "source": [
    "dlg2.terminate()"
   ]
  },
  {
   "cell_type": "markdown",
   "metadata": {},
   "source": [
    "## FSMs\n",
    "\n",
    "You should receive the `sipparty.fsm.UnexpectedInput` exception. This illustrates that the `Dialog` classes inherit from a class called `sipparty.fsm.FSM`, which implements Finite State Machines. This provides a convenient way to control state. The definition of the state transitions that the `Dialog` can take are defined in the concrete subclasses of the `Dialog`. You can see this by calling the FSM string method:"
   ]
  },
  {
   "cell_type": "code",
   "execution_count": null,
   "metadata": {
    "collapsed": false
   },
   "outputs": [],
   "source": [
    "from sipparty.fsm import FSM\n",
    "print(FSM.__str__(dlg))"
   ]
  },
  {
   "cell_type": "markdown",
   "metadata": {},
   "source": [
    "So let's finish up by closing the other dialog."
   ]
  },
  {
   "cell_type": "code",
   "execution_count": null,
   "metadata": {
    "collapsed": false
   },
   "outputs": [],
   "source": [
    "dlg.terminate()"
   ]
  },
  {
   "cell_type": "markdown",
   "metadata": {},
   "source": [
    "Again, you may have to wait a couple of seconds for the call to terminate."
   ]
  },
  {
   "cell_type": "code",
   "execution_count": null,
   "metadata": {
    "collapsed": false
   },
   "outputs": [],
   "source": [
    "dlg.state"
   ]
  },
  {
   "cell_type": "markdown",
   "metadata": {},
   "source": [
    "## Finished\n",
    "\n",
    "That concludes this tutorial. In the next one we'll look at how you can hook into the dialogs and parties to take more control over the calls."
   ]
  }
 ],
 "metadata": {
  "kernelspec": {
   "display_name": "Python 2",
   "language": "python",
   "name": "python2"
  },
  "language_info": {
   "codemirror_mode": {
    "name": "ipython",
    "version": 2
   },
   "file_extension": ".py",
   "mimetype": "text/x-python",
   "name": "python",
   "nbconvert_exporter": "python",
   "pygments_lexer": "ipython2",
   "version": "2.7.10"
  }
 },
 "nbformat": 4,
 "nbformat_minor": 0
}
