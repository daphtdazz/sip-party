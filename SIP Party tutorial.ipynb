{
 "cells": [
  {
   "cell_type": "markdown",
   "metadata": {},
   "source": [
    "# Party time #\n",
    "\n",
    "In this tutorial we will look at the classes that put the \"party\" in `sipparty`.\n",
    "\n",
    "\"Party\" here means a person who wants to make SIP calls (or participate in other types of \"Session\" via the \"Session Initiation Protocol\"). `Party` is the highest-level object in `sipparty`.\n",
    "\n",
    "So, let's see what types of party we can have with `sipparty`."
   ]
  },
  {
   "cell_type": "code",
   "execution_count": null,
   "metadata": {
    "collapsed": false
   },
   "outputs": [],
   "source": [
    "from sipparty.parties import AllPartyTypes\n",
    "AllPartyTypes"
   ]
  },
  {
   "cell_type": "code",
   "execution_count": null,
   "metadata": {
    "collapsed": false
   },
   "outputs": [],
   "source": [
    "from sipparty.parties import NoMediaSimpleCallsParty\n",
    "NoMediaSimpleCallsParty"
   ]
  },
  {
   "cell_type": "code",
   "execution_count": null,
   "metadata": {
    "collapsed": true
   },
   "outputs": [],
   "source": [
    "p1 = NoMediaSimpleCallsParty()\n",
    "p2 = NoMediaSimpleCallsParty()\n",
    "p1.listen()"
   ]
  }
 ],
 "metadata": {
  "kernelspec": {
   "display_name": "Python 2",
   "language": "python",
   "name": "python2"
  },
  "language_info": {
   "codemirror_mode": {
    "name": "ipython",
    "version": 2
   },
   "file_extension": ".py",
   "mimetype": "text/x-python",
   "name": "python",
   "nbconvert_exporter": "python",
   "pygments_lexer": "ipython2",
   "version": "2.7.10"
  }
 },
 "nbformat": 4,
 "nbformat_minor": 0
}
