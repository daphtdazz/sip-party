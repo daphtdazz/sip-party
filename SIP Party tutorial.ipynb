{
 "cells": [
  {
   "cell_type": "markdown",
   "metadata": {},
   "source": [
    "# Party time #\n",
    "\n",
    "In this tutorial we will look at the classes that put the \"party\" in `sipparty`.\n",
    "\n",
    "\"Party\" here means a person who wants to make SIP calls (or participate in other types of \"Session\" via the \"Session Initiation Protocol\"). `Party` is the highest-level object in `sipparty`.\n",
    "\n",
    "## Types of party ##\n",
    "\n",
    "So, let's see what types of party we can have with `sipparty`."
   ]
  },
  {
   "cell_type": "code",
   "execution_count": null,
   "metadata": {
    "collapsed": false
   },
   "outputs": [],
   "source": [
    "from sipparty.parties import AllPartyTypes\n",
    "AllPartyTypes"
   ]
  },
  {
   "cell_type": "markdown",
   "metadata": {},
   "source": [
    "Let's start with the `NoMediaSimpleCallsParty`. This is a demonstration type that doesn't include any media session, so it is just used for demonstrating the SIP signalling flow. \n",
    "\n",
    "## Parties listening ##\n",
    "\n",
    "The first thing to do with the party is start listening, so that we can receive calls."
   ]
  },
  {
   "cell_type": "code",
   "execution_count": null,
   "metadata": {
    "collapsed": false
   },
   "outputs": [],
   "source": [
    "from sipparty.parties import NoMediaSimpleCallsParty\n",
    "NoMediaSimpleCallsParty\n",
    "p1 = NoMediaSimpleCallsParty()\n",
    "p1.listen()"
   ]
  },
  {
   "cell_type": "markdown",
   "metadata": {},
   "source": [
    "But we can't just listen, because part of listening is to register the party's SIP identity with the transport component so that the party can be addressed. To do this, we need to configure a SIP URI on the party. Try doing so below:"
   ]
  },
  {
   "cell_type": "code",
   "execution_count": null,
   "metadata": {
    "collapsed": false
   },
   "outputs": [],
   "source": [
    "p1.uri = 'sip:me2@myhost.com'\n",
    "p1.uri\n"
   ]
  },
  {
   "cell_type": "markdown",
   "metadata": {
    "collapsed": true
   },
   "source": [
    "The key thing to note here is that while we assigned a string to `p1.uri`, `sipparty` provides a mechanism for automatically parsing properties into deep object graphs via the `sipparty.parse.ParsedProperty` descriptor. If you were to try \n",
    "\n",
    "    p1.uri = 'notavalidURI-as-no-protocol-info'\n",
    "    \n",
    "You would get an error.\n",
    "\n",
    "Continuing, now we will be able to listen (the listen can take a few seconds depending on the host). By default we listen on port 5060, since this is the standard SIP port."
   ]
  },
  {
   "cell_type": "code",
   "execution_count": null,
   "metadata": {
    "collapsed": false
   },
   "outputs": [],
   "source": [
    "p1.listen()\n",
    "p1.contactURI.port"
   ]
  },
  {
   "cell_type": "markdown",
   "metadata": {},
   "source": [
    "We could in fact have overridden the default, and even provided a range of ports we'd have been happy with using a filter.\n",
    "\n",
    "    p1.listen(port=None, port_filter=lambda x: x % 2 == 0)\n",
    "    p1.contactURI.port\n",
    "    \n",
    "However, if you try this straight away you'll get an error: once you're listening you have to unlisten before you can relisten, using:\n",
    "\n",
    "    p1.stop_listen()\n",
    "    \n",
    "[!! Not yet implemented !!]\n",
    "\n",
    "## Start a call. ##\n",
    "\n",
    "Now you've got a party, you could start a call to a remote person. However, for this demo we don't have a remote person to call, so we'll just have to create a new party and call that instead."
   ]
  },
  {
   "cell_type": "code",
   "execution_count": null,
   "metadata": {
    "collapsed": false
   },
   "outputs": [],
   "source": [
    "p2 = NoMediaSimpleCallsParty(aor='you@yourhost.com')\n",
    "dlg = p2.invite(p1)"
   ]
  },
  {
   "cell_type": "markdown",
   "metadata": {},
   "source": [
    "> Note how we can specify the Address Of Record for the new party in the initialization call. The AOR is part of the URI, and `Party` classes will automatically delegate their AOR attribute through to their URI. So:\n",
    ">\n",
    ">     p1.uri.aor = 'me@myhost.com'\n",
    ">\n",
    "> is equivalent to:\n",
    ">\n",
    ">     p1.aor = 'me@myhost.com'\n",
    ">\n",
    "> The classes `sipparty.deepclass.DeepClass` and `sipparty.vb.ValueBinder` are used to achieve this.\n",
    "\n",
    "## Dialogs\n",
    "\n",
    "The `p1.invite()` method returns a `Dialog` instance which maintains the state of a particular call. Now if you want to manipulate that call, you can act on that. The `Dialog` instances are all independent, and you can have multiple dialogs per call. Let's create another one:"
   ]
  },
  {
   "cell_type": "code",
   "execution_count": null,
   "metadata": {
    "collapsed": false
   },
   "outputs": [],
   "source": [
    "dlg2 = p2.invite(p1)"
   ]
  },
  {
   "cell_type": "markdown",
   "metadata": {
    "collapsed": true
   },
   "source": [
    "Dialogs all act asynchronously. So the state of them may change at any time. See what state your dialogs are in now."
   ]
  },
  {
   "cell_type": "code",
   "execution_count": null,
   "metadata": {
    "collapsed": false
   },
   "outputs": [],
   "source": [
    "print(dlg.state)\n",
    "print(dlg2.state)"
   ]
  },
  {
   "cell_type": "markdown",
   "metadata": {},
   "source": [
    "They should both be `InDialog` (you may have to wait a second). \n",
    "\n",
    "## Terminate\n",
    "\n",
    "Terminate one of them now:"
   ]
  },
  {
   "cell_type": "code",
   "execution_count": null,
   "metadata": {
    "collapsed": false
   },
   "outputs": [],
   "source": [
    "dlg2.terminate()\n",
    "dlg.state"
   ]
  },
  {
   "cell_type": "markdown",
   "metadata": {},
   "source": [
    "It might take a couple of seconds, but the state should move to `Terminated`. "
   ]
  },
  {
   "cell_type": "code",
   "execution_count": null,
   "metadata": {
    "collapsed": false
   },
   "outputs": [],
   "source": [
    "dlg2.state"
   ]
  },
  {
   "cell_type": "markdown",
   "metadata": {},
   "source": [
    "For curiosity's sake, see what happens if you terminate again."
   ]
  },
  {
   "cell_type": "code",
   "execution_count": null,
   "metadata": {
    "collapsed": false
   },
   "outputs": [],
   "source": [
    "dlg2.terminate()"
   ]
  },
  {
   "cell_type": "markdown",
   "metadata": {},
   "source": [
    "## FSMs\n",
    "\n",
    "You should receive the `sipparty.fsm.UnexpectedInput` exception. This illustrates that the `Dialog` classes inherit from a class called `sipparty.fsm.FSM`, which implements Finite State Machines. This provides a convenient way to control state. The definition of the state transitions that the `Dialog` can take are defined in the concrete subclasses of the `Dialog`. You can see this by calling the FSM string method:"
   ]
  },
  {
   "cell_type": "code",
   "execution_count": null,
   "metadata": {
    "collapsed": false
   },
   "outputs": [],
   "source": [
    "from sipparty.fsm import FSM\n",
    "print(FSM.__str__(dlg))"
   ]
  },
  {
   "cell_type": "markdown",
   "metadata": {},
   "source": [
    "So let's finish up by closing the other dialog."
   ]
  },
  {
   "cell_type": "code",
   "execution_count": null,
   "metadata": {
    "collapsed": false
   },
   "outputs": [],
   "source": [
    "dlg.terminate()"
   ]
  },
  {
   "cell_type": "markdown",
   "metadata": {},
   "source": [
    "Again, you may have to wait a couple of seconds for the call to terminate."
   ]
  },
  {
   "cell_type": "code",
   "execution_count": null,
   "metadata": {
    "collapsed": false
   },
   "outputs": [],
   "source": [
    "dlg.state"
   ]
  },
  {
   "cell_type": "markdown",
   "metadata": {},
   "source": [
    "## Finished\n",
    "\n",
    "That concludes this tutorial. In the next one we'll look at how you can hook into the dialogs and parties to take more control over the calls."
   ]
  }
 ],
 "metadata": {
  "kernelspec": {
   "display_name": "Python 2",
   "language": "python",
   "name": "python2"
  },
  "language_info": {
   "codemirror_mode": {
    "name": "ipython",
    "version": 2
   },
   "file_extension": ".py",
   "mimetype": "text/x-python",
   "name": "python",
   "nbconvert_exporter": "python",
   "pygments_lexer": "ipython2",
   "version": "2.7.10"
  }
 },
 "nbformat": 4,
 "nbformat_minor": 0
}
